{
 "cells": [
  {
   "cell_type": "code",
   "execution_count": 1,
   "id": "ea6fbfb0",
   "metadata": {},
   "outputs": [],
   "source": [
    "import numpy as np"
   ]
  },
  {
   "cell_type": "code",
   "execution_count": 18,
   "id": "474b0d5e",
   "metadata": {},
   "outputs": [],
   "source": [
    "def multiple_linear_regression(X, y, learning_rate=0.01, num_iterations=1000):\n",
    "    N,M=X.shape\n",
    "    X = np.hstack((np.ones((N,1)),X))\n",
    "    weights = np.zeros((M+1,1))\n",
    "    \n",
    "    for _ in range(num_iterations):\n",
    "        predictions = X @ weights\n",
    "        loss = (1/(2*N)) * np.sum((predictions -y )**2)\n",
    "        gradients = (1/N)*X.T @ (predictions - y)\n",
    "        weights -= learning_rate * np.mean(gradients, axis=1, keepdims=True)\n",
    "        \n",
    "    def predict(x):\n",
    "        x_with_bias = np.hstack((1,x))\n",
    "        return np.dot(x_with_bias, weights).item()\n",
    "    return predict"
   ]
  },
  {
   "cell_type": "code",
   "execution_count": 21,
   "id": "df870519",
   "metadata": {},
   "outputs": [],
   "source": [
    "X_new=np.array([[1,2],[2,3],[3,4],[4,5]])\n",
    "y_new=np.array([4,7,10,13])"
   ]
  },
  {
   "cell_type": "code",
   "execution_count": 22,
   "id": "db0b8f4c",
   "metadata": {},
   "outputs": [],
   "source": [
    "multiple_linear_regression_model_new = multiple_linear_regression(X_new,y_new,learning_rate=0.01, num_iterations=1000)"
   ]
  },
  {
   "cell_type": "code",
   "execution_count": 23,
   "id": "f03f834f",
   "metadata": {},
   "outputs": [
    {
     "name": "stdout",
     "output_type": "stream",
     "text": [
      "Input: [1 2], prediction: 7.703380342345877\n",
      "Input: [2 3], prediction: 8.12531112521953\n",
      "Input: [3 4], prediction: 8.547241908093184\n",
      "Input: [4 5], prediction: 8.969172690966836\n"
     ]
    }
   ],
   "source": [
    "for sample in X_new:\n",
    "    prediction = multiple_linear_regression_model_new(sample)\n",
    "    print(f\"Input: {sample}, prediction: {prediction}\")"
   ]
  },
  {
   "cell_type": "code",
   "execution_count": null,
   "id": "1d0bb3b4",
   "metadata": {},
   "outputs": [],
   "source": []
  }
 ],
 "metadata": {
  "kernelspec": {
   "display_name": "Python 3 (ipykernel)",
   "language": "python",
   "name": "python3"
  },
  "language_info": {
   "codemirror_mode": {
    "name": "ipython",
    "version": 3
   },
   "file_extension": ".py",
   "mimetype": "text/x-python",
   "name": "python",
   "nbconvert_exporter": "python",
   "pygments_lexer": "ipython3",
   "version": "3.8.10"
  }
 },
 "nbformat": 4,
 "nbformat_minor": 5
}
